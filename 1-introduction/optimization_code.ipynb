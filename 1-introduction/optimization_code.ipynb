{
 "cells": [
  {
   "cell_type": "code",
   "execution_count": 2,
   "metadata": {},
   "outputs": [],
   "source": [
    "import pandas as pd\n",
    "\n",
    "def optimize_dataframe(df):\n",
    "    # Converter colunas Object para Category\n",
    "    for col in df.select_dtypes(include='object').columns:\n",
    "        df[col] = df[col].astype('category')            \n",
    "    #Converter colunas Float64 para Float32\n",
    "    for col in df.select_dtypes(include='float64').columns:\n",
    "        df[col] = df[col].astype('float32')\n",
    "    #Converter colunas Int64 para Int32\n",
    "    for col in df.select_dtypes(include='int64').columns:\n",
    "        df[col] = df[col].astype('int32')\n",
    "    return df\n"
   ]
  }
 ],
 "metadata": {
  "kernelspec": {
   "display_name": "Python 3",
   "language": "python",
   "name": "python3"
  },
  "language_info": {
   "codemirror_mode": {
    "name": "ipython",
    "version": 3
   },
   "file_extension": ".py",
   "mimetype": "text/x-python",
   "name": "python",
   "nbconvert_exporter": "python",
   "pygments_lexer": "ipython3",
   "version": "3.8.19"
  }
 },
 "nbformat": 4,
 "nbformat_minor": 2
}
